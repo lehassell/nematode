{
 "cells": [
  {
   "cell_type": "code",
   "execution_count": null,
   "metadata": {},
   "outputs": [],
   "source": [
    "%matplotlib inline\n",
    "\n",
    "import cv2\n",
    "import numpy as np\n",
    "import copy\n",
    "from matplotlib import pyplot as plt\n",
    "import matplotlib.cm as cm"
   ]
  },
  {
   "cell_type": "markdown",
   "metadata": {},
   "source": [
    "test test test"
   ]
  },
  {
   "cell_type": "code",
   "execution_count": null,
   "metadata": {},
   "outputs": [],
   "source": [
    "def displayImage(picture):\n",
    "    cv2.imshow('ImageWindow', picture)\n",
    "    cv2.waitKey(0)\n",
    "    cv2.destroyAllWindows()\n",
    "\n",
    "\n",
    "def compare_image(p1, p2, p3, title1, title2, title3):\n",
    "    plt.figure(1)\n",
    "    plt.subplot(311), plt.imshow(p1, cmap=cm.Greys_r), plt.title(title1)\n",
    "    plt.xticks([]), plt.yticks([])\n",
    "    plt.subplot(312), plt.imshow(p2, cmap=cm.Greys_r), plt.title(title2)\n",
    "    plt.xticks([]), plt.yticks([])\n",
    "    plt.subplot(313), plt.imshow(p3, cmap=cm.Greys_r), plt.title(title3)\n",
    "    plt.xticks([]), plt.yticks([])\n",
    "    plt.show()"
   ]
  },
  {
   "cell_type": "markdown",
   "metadata": {},
   "source": [
    ""
   ]
  },
  {
   "cell_type": "code",
   "execution_count": null,
   "metadata": {},
   "outputs": [],
   "source": [
    "if __name__ == \"__main__\":\n",
    "    # Reads in the files\n",
    "    filename = '/Users/lehassell/PycharmProjects/nematode/nems.jpg'\n",
    "    original = cv2.imread(filename, 0)\n",
    "\n",
    "    img = copy.deepcopy(original)"
   ]
  },
  {
   "cell_type": "code",
   "execution_count": null,
   "metadata": {},
   "outputs": [],
   "source": [
    ""
   ]
  }
 ],
 "metadata": {},
 "nbformat": 4,
 "nbformat_minor": 0
}